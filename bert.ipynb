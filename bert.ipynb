{
 "cells": [
  {
   "cell_type": "code",
   "execution_count": 1,
   "metadata": {},
   "outputs": [],
   "source": [
    "from torch.utils.data import DataLoader\n",
    "from datasets import load_dataset, DatasetDict, Dataset\n",
    "from transformers import AutoModelForSequenceClassification, AutoTokenizer\n",
    "from sklearn.metrics import accuracy_score, cohen_kappa_score, mean_squared_error\n",
    "import pytorch_lightning as pl\n",
    "import torch\n",
    "from torch import nn\n",
    "import torch.optim as optim\n",
    "from tqdm.auto import tqdm\n",
    "from torch.optim import AdamW\n",
    "from transformers import get_cosine_schedule_with_warmup\n",
    "from lightning.pytorch.core.module import LightningModule\n",
    "from lightning.pytorch.callbacks import EarlyStopping, ModelCheckpoint\n",
    "import numpy as np\n",
    "import pandas as pd\n",
    "from IPython.display import display\n",
    "from lightning.pytorch.callbacks import Callback\n",
    "from lightning.pytorch.trainer import Trainer\n",
    "from lightning.pytorch.loggers.csv_logs import CSVLogger\n",
    "from coral_pytorch.losses import corn_loss\n",
    "from coral_pytorch.dataset import corn_label_from_logits\n",
    "import os\n",
    "\n",
    "from sklearn.feature_extraction.text import TfidfVectorizer\n",
    "from sklearn.metrics import r2_score\n"
   ]
  },
  {
   "cell_type": "code",
   "execution_count": null,
   "metadata": {},
   "outputs": [],
   "source": []
  },
  {
   "cell_type": "code",
   "execution_count": 2,
   "metadata": {},
   "outputs": [],
   "source": [
    "dataset = load_dataset(\"kamel-usp/aes_enem_dataset\", \"sourceAWithGraders\", cache_dir=\"/tmp/aes_enem\")"
   ]
  },
  {
   "cell_type": "code",
   "execution_count": 30,
   "metadata": {},
   "outputs": [
    {
     "name": "stdout",
     "output_type": "stream",
     "text": [
      "DatasetDict({\n",
      "    train: Dataset({\n",
      "        features: ['id', 'id_prompt', 'prompt', 'supporting_text', 'essay_title', 'essay_text', 'grades', 'essay_year', 'general_comment', 'specific_comment', 'reference', 'label'],\n",
      "        num_rows: 758\n",
      "    })\n",
      "    validation: Dataset({\n",
      "        features: ['id', 'id_prompt', 'prompt', 'supporting_text', 'essay_title', 'essay_text', 'grades', 'essay_year', 'general_comment', 'specific_comment', 'reference', 'label'],\n",
      "        num_rows: 198\n",
      "    })\n",
      "    test: Dataset({\n",
      "        features: ['id', 'id_prompt', 'prompt', 'supporting_text', 'essay_title', 'essay_text', 'grades', 'essay_year', 'general_comment', 'specific_comment', 'reference', 'label'],\n",
      "        num_rows: 209\n",
      "    })\n",
      "    test_easy: Dataset({\n",
      "        features: ['id_prompt', 'id', 'is_hard', 'prompt', 'supporting_text', 'essay_title', 'essay_text', 'grades', 'essay_year', 'general_comment', 'specific_comment', 'reference', 'label', '__index_level_0__'],\n",
      "        num_rows: 167\n",
      "    })\n",
      "    test_hard: Dataset({\n",
      "        features: ['id_prompt', 'id', 'is_hard', 'prompt', 'supporting_text', 'essay_title', 'essay_text', 'grades', 'essay_year', 'general_comment', 'specific_comment', 'reference', 'label', '__index_level_0__'],\n",
      "        num_rows: 42\n",
      "    })\n",
      "})\n"
     ]
    }
   ],
   "source": [
    "print(dataset)"
   ]
  },
  {
   "cell_type": "code",
   "execution_count": 3,
   "metadata": {},
   "outputs": [],
   "source": [
    "REFERENCE_CONCEPT = 0"
   ]
  },
  {
   "cell_type": "code",
   "execution_count": 4,
   "metadata": {},
   "outputs": [],
   "source": [
    "grade_mapping = {\n",
    "    0: 0,\n",
    "    40: 1,\n",
    "    80: 2,\n",
    "    120: 3,\n",
    "    160: 4,\n",
    "    200: 5,\n",
    "     2: 0,\n",
    "}\n",
    "\n",
    "def create_label(row):\n",
    "    grade = row[\"grades\"][REFERENCE_CONCEPT]\n",
    "    return {\"label\": grade_mapping[grade]}\n",
    "\n",
    "dataset = dataset.map(create_label)"
   ]
  },
  {
   "cell_type": "markdown",
   "metadata": {},
   "source": [
    "## BErt"
   ]
  },
  {
   "cell_type": "code",
   "execution_count": 5,
   "metadata": {},
   "outputs": [
    {
     "name": "stderr",
     "output_type": "stream",
     "text": [
      "Seed set to 42\n"
     ]
    }
   ],
   "source": [
    "RANDOM_SEED = 42\n",
    "REFERENCE_CONCEPT = 3\n",
    "MAX_LENGTH = 256\n",
    "BATCH_SIZE=16\n",
    "WEIGHT_DECAY=0.01\n",
    "GRADIENT_ACC = 1\n",
    "LEARNING_RATE = 1e-4\n",
    "\n",
    "OBJECTIVE = \"regression\"\n",
    "PRECISION = \"16-mixed\"\n",
    "VARIANT = \"large\"\n",
    "BASE_MODEL = \"bertimbau\"\n",
    "\n",
    "TOKENIZER_NAME = f\"neuralmind/bert-{VARIANT}-portuguese-cased\"\n",
    "MODEL_NAME = f\"neuralmind/bert-{VARIANT}-portuguese-cased\"\n",
    "EXPERIMENT_NAME = f\"aes_enem_models-sourceA-{OBJECTIVE}-from-{BASE_MODEL}-{VARIANT}-C{REFERENCE_CONCEPT+1}\"\n",
    "\n",
    "pl.seed_everything(RANDOM_SEED)\n",
    "torch.set_float32_matmul_precision('medium')"
   ]
  },
  {
   "cell_type": "code",
   "execution_count": 6,
   "metadata": {},
   "outputs": [],
   "source": [
    "def compute_difference(lists):\n",
    "    # Assuming the first element is the reference for subtraction\n",
    "    reference = lists[0][REFERENCE_CONCEPT]\n",
    "    if len(lists) >= 3:\n",
    "      grader_a = lists[1][REFERENCE_CONCEPT]\n",
    "      grader_b = lists[2][REFERENCE_CONCEPT]\n",
    "\n",
    "      # Calculate absolute differences\n",
    "      diff_ref_a = abs(reference - grader_a)\n",
    "      diff_ref_b = abs(reference - grader_b)\n",
    "      diff_a_b = abs(grader_a - grader_b)\n",
    "\n",
    "      # Check if any difference is greater than 80\n",
    "      return diff_ref_a > 80 or diff_ref_b > 80 or diff_a_b > 80\n",
    "    else:\n",
    "        # Handle cases where there are not enough graders\n",
    "        # You might want to return False (not hard) or raise a warning\n",
    "        return False\n",
    "test_df = dataset[\"test\"].to_pandas()\n",
    "new_test_df = pd.merge(\n",
    "    test_df.groupby([\"id_prompt\", \"id\"]).agg({\"grades\": list}).apply(lambda x: compute_difference(x['grades']), axis=1).reset_index(),\n",
    "    test_df,\n",
    "    on=[\"id_prompt\",\"id\"]\n",
    ").rename(columns={0: \"is_hard\"})"
   ]
  },
  {
   "cell_type": "code",
   "execution_count": 7,
   "metadata": {},
   "outputs": [],
   "source": [
    "dataset[\"test_easy\"] = Dataset.from_pandas(new_test_df[new_test_df[\"is_hard\"]==False])\n",
    "dataset[\"test_hard\"] = Dataset.from_pandas(new_test_df[new_test_df[\"is_hard\"]==True])"
   ]
  },
  {
   "cell_type": "code",
   "execution_count": 8,
   "metadata": {},
   "outputs": [
    {
     "name": "stderr",
     "output_type": "stream",
     "text": [
      "/home/nathan/.local/lib/python3.10/site-packages/huggingface_hub/file_download.py:795: FutureWarning: `resume_download` is deprecated and will be removed in version 1.0.0. Downloads always resume when possible. If you want to force a new download, use `force_download=True`.\n",
      "  warnings.warn(\n"
     ]
    },
    {
     "name": "stderr",
     "output_type": "stream",
     "text": [
      "Some weights of BertForSequenceClassification were not initialized from the model checkpoint at neuralmind/bert-large-portuguese-cased and are newly initialized: ['classifier.bias', 'classifier.weight']\n",
      "You should probably TRAIN this model on a down-stream task to be able to use it for predictions and inference.\n"
     ]
    }
   ],
   "source": [
    "tokenizer = AutoTokenizer.from_pretrained(TOKENIZER_NAME, use_fast=True)\n",
    "def get_model_instance(model_path, objective):\n",
    "    model = None\n",
    "    if objective == \"regression\":\n",
    "        model = AutoModelForSequenceClassification.from_pretrained(\n",
    "                model_path,\n",
    "                cache_dir=\"/tmp/\",\n",
    "                num_labels=1,\n",
    "            )\n",
    "    elif objective == \"classification\" or objective == \"ordinal\":\n",
    "        model = AutoModelForSequenceClassification.from_pretrained(\n",
    "                model_path,\n",
    "                cache_dir=\"/tmp/\",\n",
    "                num_labels=6,\n",
    "            )\n",
    "    return model\n",
    "model = get_model_instance(MODEL_NAME, OBJECTIVE)\n",
    "if model is None:\n",
    "    raise ValueError(\"Please set a Pre defined Objectice\")"
   ]
  },
  {
   "cell_type": "code",
   "execution_count": 9,
   "metadata": {},
   "outputs": [],
   "source": [
    "def prepare_dataset(dataset):\n",
    "    def tokenize_essays(dataset, tokenizer, max_length=512):\n",
    "        tokenized_text = tokenizer(\n",
    "                dataset[\"essay_text\"],\n",
    "                return_tensors=\"pt\",\n",
    "                truncation=True,\n",
    "                padding=\"max_length\",\n",
    "                max_length=max_length\n",
    "            )\n",
    "        tokenized_text[\"label\"] = dataset[\"label\"]\n",
    "        return tokenized_text\n",
    "\n",
    "    tokenized_datasets = {\n",
    "        split: tokenize_essays(sub_dataset, tokenizer, MAX_LENGTH)\n",
    "        for split, sub_dataset in dataset.items()\n",
    "    }\n",
    "    dataset_tokenized = DatasetDict({\n",
    "        split: Dataset.from_dict(data)\n",
    "        for split, data in tokenized_datasets.items()\n",
    "    })\n",
    "\n",
    "    return dataset_tokenized\n",
    "\n",
    "dataset_tokenized = prepare_dataset(dataset)"
   ]
  },
  {
   "cell_type": "code",
   "execution_count": 10,
   "metadata": {},
   "outputs": [],
   "source": [
    "data_train = DataLoader(\n",
    "    dataset_tokenized[\"train\"].with_format(\"torch\"), batch_size=BATCH_SIZE, shuffle=True, num_workers=0\n",
    ")\n",
    "data_val = DataLoader(dataset_tokenized[\"validation\"].with_format(\"torch\"), batch_size=BATCH_SIZE, shuffle=False, num_workers=0)\n",
    "data_test = DataLoader(dataset_tokenized[\"test\"].with_format(\"torch\"), batch_size=BATCH_SIZE, shuffle=False, num_workers=0)\n",
    "\n",
    "data_test_easy = DataLoader(dataset_tokenized[\"test_easy\"].with_format(\"torch\"), batch_size=BATCH_SIZE, shuffle=False, num_workers=0)\n",
    "data_test_hard = DataLoader(dataset_tokenized[\"test_hard\"].with_format(\"torch\"), batch_size=BATCH_SIZE, shuffle=False, num_workers=0)"
   ]
  },
  {
   "cell_type": "code",
   "execution_count": 11,
   "metadata": {},
   "outputs": [
    {
     "data": {
      "application/vnd.jupyter.widget-view+json": {
       "model_id": "85b8f803708e4391859b889a5bd39da0",
       "version_major": 2,
       "version_minor": 0
      },
      "text/plain": [
       "Obtaining predictions:   0%|          | 0/13 [00:00<?, ?it/s]"
      ]
     },
     "metadata": {},
     "output_type": "display_data"
    }
   ],
   "source": [
    "def predict_classes(output):\n",
    "    if OBJECTIVE == \"regression\":\n",
    "        # Round the tensor to the nearest integer\n",
    "        rounded_tensor = torch.round(output.logits)\n",
    "        # Clamp the values to the range [0, 5]\n",
    "        clamped_tensor = torch.clamp(rounded_tensor, min=0, max=5)\n",
    "        return clamped_tensor.view(-1)\n",
    "    elif OBJECTIVE == \"classification\":\n",
    "        return torch.argmax(output.logits, axis=1)\n",
    "    elif OBJECTIVE == \"ordinal\":\n",
    "        return corn_label_from_logits(output.logits)\n",
    "\n",
    "def get_predictions_and_labels(model, dataloader):\n",
    "    device = torch.device(\"cuda\" if torch.cuda.is_available() else \"cpu\")\n",
    "    model.to(device)\n",
    "    all_predictions = []\n",
    "    all_true_labels = []\n",
    "    i=0\n",
    "    for batch in tqdm(dataloader, desc=\"Obtaining predictions\"):\n",
    "        input_ids = batch[\"input_ids\"].to(device)\n",
    "        attention_mask = batch[\"attention_mask\"].to(device)\n",
    "        labels = batch[\"label\"].to(device)\n",
    "        with torch.no_grad():\n",
    "            output = model(input_ids, attention_mask)\n",
    "            predicted_classes = predict_classes(output)\n",
    "\n",
    "        # If using GPU, need to move the data back to CPU to use numpy.\n",
    "        all_predictions.extend(predicted_classes.cpu().numpy())\n",
    "        all_true_labels.extend(labels.cpu().numpy())\n",
    "\n",
    "    return list(map(lambda x: x * 40, all_predictions)), list(map(lambda x: x * 40, all_true_labels))\n",
    "\n",
    "all_predictions, all_true_labels = get_predictions_and_labels(model, data_val)"
   ]
  },
  {
   "cell_type": "code",
   "execution_count": 12,
   "metadata": {},
   "outputs": [],
   "source": [
    "def enem_accuracy_score(true_values, predicted_values):\n",
    "    assert len(true_values) == len(predicted_values), \"Mismatched length between true and predicted values.\"\n",
    "\n",
    "    non_divergent_count = sum([1 for t, p in zip(true_values, predicted_values) if abs(t - p) <= 80])\n",
    "\n",
    "    return non_divergent_count / len(true_values)"
   ]
  },
  {
   "cell_type": "code",
   "execution_count": 13,
   "metadata": {},
   "outputs": [
    {
     "name": "stdout",
     "output_type": "stream",
     "text": [
      "Accuracy on the validation  set: 0.01\n"
     ]
    }
   ],
   "source": [
    "accuracy = accuracy_score(all_true_labels, all_predictions)\n",
    "print(f\"Accuracy on the validation  set: {accuracy:.2f}\")"
   ]
  },
  {
   "cell_type": "code",
   "execution_count": 14,
   "metadata": {},
   "outputs": [
    {
     "name": "stdout",
     "output_type": "stream",
     "text": [
      "QWK on the validation set: -0.02\n"
     ]
    }
   ],
   "source": [
    "qwk = cohen_kappa_score(all_true_labels, all_predictions, weights=\"quadratic\", labels=[0,40,80,120,160,200])\n",
    "print(f\"QWK on the validation set: {qwk:.2f}\")"
   ]
  },
  {
   "cell_type": "code",
   "execution_count": 15,
   "metadata": {},
   "outputs": [
    {
     "name": "stdout",
     "output_type": "stream",
     "text": [
      "Accuracy on the validation set: 0.37\n"
     ]
    }
   ],
   "source": [
    "enem_accuracy = enem_accuracy_score(all_true_labels, all_predictions)\n",
    "print(f\"Accuracy on the validation set: {enem_accuracy:.2f}\")"
   ]
  },
  {
   "cell_type": "code",
   "execution_count": 16,
   "metadata": {},
   "outputs": [],
   "source": [
    "class LightningGradePredictor(LightningModule):\n",
    "    def __init__(self, model: nn.Module, loss_function, learning_rate=0.001, num_warmup_steps=None, num_training_steps=None):\n",
    "        super(LightningGradePredictor, self).__init__()\n",
    "        self.model = model\n",
    "        self.loss = loss_function\n",
    "        self.learning_rate = learning_rate\n",
    "        self.num_warmup_steps = num_warmup_steps\n",
    "        self.num_training_steps = num_training_steps\n",
    "        self.save_hyperparameters(ignore=['model'])\n",
    "        self.training_step_loss = []\n",
    "        self.validation_step_loss = []\n",
    "\n",
    "    def forward(self, input_ids, attention_mask):\n",
    "        return self.model(input_ids, attention_mask)\n",
    "\n",
    "    def training_step(self, batch, batch_idx):\n",
    "        input_ids, attention_mask, labels = batch[\"input_ids\"], batch[\"attention_mask\"], batch[\"label\"]\n",
    "        outputs = self(input_ids, attention_mask)\n",
    "        loss = None\n",
    "        if OBJECTIVE == \"regression\":\n",
    "            loss = self.loss(outputs.logits, labels.unsqueeze(1).float())\n",
    "        elif OBJECTIVE == \"classification\":\n",
    "            loss = self.loss(outputs.logits, labels)\n",
    "        elif OBJECTIVE == \"ordinal\":\n",
    "            loss = self.loss(outputs.logits, labels, num_classes=self.model.num_labels)\n",
    "        self.log('train_loss', loss)\n",
    "        self.training_step_loss.append(loss)\n",
    "        optimizer = self.optimizers()\n",
    "        if isinstance(optimizer, list):\n",
    "            optimizer = optimizer[0]\n",
    "        lr_current = optimizer.optimizer.param_groups[0]['lr']\n",
    "        self.log('current_lr', lr_current)\n",
    "        return loss\n",
    "\n",
    "    def validation_step(self, batch, batch_idx):\n",
    "        input_ids, attention_mask, labels = batch[\"input_ids\"], batch[\"attention_mask\"], batch[\"label\"]\n",
    "        outputs = self(input_ids, attention_mask)\n",
    "        if OBJECTIVE == \"regression\":\n",
    "            loss = self.loss(outputs.logits, labels.unsqueeze(1).float())\n",
    "        elif OBJECTIVE == \"classification\":\n",
    "            loss = self.loss(outputs.logits, labels)\n",
    "        elif OBJECTIVE == \"ordinal\":\n",
    "            loss = self.loss(outputs.logits, labels, num_classes=self.model.num_labels)\n",
    "        self.log('val_loss', loss)\n",
    "        self.validation_step_loss.append(loss)\n",
    "        return loss\n",
    "\n",
    "    def test_step(self, batch, batch_idx):\n",
    "        input_ids, attention_mask, labels = batch[\"input_ids\"], batch[\"attention_mask\"], batch[\"label\"]\n",
    "        outputs = self(input_ids, attention_mask)\n",
    "        if OBJECTIVE == \"regression\":\n",
    "            loss = self.loss(outputs.logits,  labels.unsqueeze(1).float())\n",
    "        elif OBJECTIVE == \"classification\":\n",
    "            loss = self.loss(outputs.logits, labels)\n",
    "        elif OBJECTIVE == \"ordinal\":\n",
    "            loss = self.loss(outputs.logits, labels, num_classes=self.model.num_labels)\n",
    "        self.log('test_loss', loss)\n",
    "        return loss\n",
    "\n",
    "    def configure_optimizers(self):\n",
    "        optimizer = AdamW(self.parameters(), lr=self.learning_rate, weight_decay=WEIGHT_DECAY)\n",
    "\n",
    "        scheduler = get_cosine_schedule_with_warmup(\n",
    "            optimizer,\n",
    "            num_warmup_steps=self.num_warmup_steps,\n",
    "            num_training_steps=self.num_training_steps\n",
    "        )\n",
    "\n",
    "        return [optimizer], [{\"scheduler\": scheduler, \"interval\": \"step\"}]"
   ]
  },
  {
   "cell_type": "code",
   "execution_count": 17,
   "metadata": {},
   "outputs": [],
   "source": [
    "class EpochEndCallback(Callback):\n",
    "    def __init__(self):\n",
    "        self.metrics_df = pd.DataFrame(columns=\n",
    "                                       ['Epoch', 'Train Loss', 'Validation Loss',\n",
    "                                         'Train QWK', 'Validation QWK',\n",
    "                                         'Train RMSE', 'Validation RMSE'\n",
    "                                        ])\n",
    "        self.device = torch.device(\"cuda\" if torch.cuda.is_available() else \"cpu\")\n",
    "\n",
    "    def on_train_epoch_end(self, trainer, pl_module):\n",
    "        current_epoch = trainer.current_epoch\n",
    "        # Metrics for training data\n",
    "        train_dataloader = trainer.train_dataloader\n",
    "        val_dataloader = trainer.val_dataloaders\n",
    "\n",
    "        epoch_train_loss_mean = torch.stack(pl_module.training_step_loss).mean()\n",
    "        epoch_val_loss_mean = torch.stack(pl_module.validation_step_loss).mean()\n",
    "        pl_module.training_step_loss.clear()\n",
    "        pl_module.validation_step_loss.clear()\n",
    "        model.eval()\n",
    "        train_predictions, train_true_labels = get_predictions_and_labels(model, train_dataloader)\n",
    "        val_predictions, val_true_labels = get_predictions_and_labels(model, val_dataloader)\n",
    "        train_qwk = cohen_kappa_score(train_true_labels, train_predictions, weights=\"quadratic\", labels=[0,40,80,120,160,200])\n",
    "        val_qwk = cohen_kappa_score(val_true_labels, val_predictions, weights=\"quadratic\", labels=[0,40,80,120,160,200])\n",
    "        pl_module.log('val_qwk', val_qwk)\n",
    "\n",
    "        train_rmse = mean_squared_error(train_true_labels, train_predictions)\n",
    "        val_rmse = mean_squared_error(val_true_labels, val_predictions)\n",
    "        train_rmse = np.sqrt(train_rmse)\n",
    "        val_rmse = np.sqrt(val_rmse)\n",
    "        pl_module.log('val_rmse', val_rmse)\n",
    "\n",
    "        new_row = {'Epoch': current_epoch,\n",
    "                    'Train Loss': epoch_train_loss_mean.cpu().detach().numpy(),\n",
    "                    'Validation Loss': epoch_val_loss_mean.cpu().detach().numpy(),\n",
    "                    'Train QWK': train_qwk,\n",
    "                    'Validation QWK': val_qwk,\n",
    "                    'Train RMSE': train_rmse,\n",
    "                    'Validation RMSE': val_rmse\n",
    "                    }\n",
    "        new_row = pd.Series(new_row).to_frame().T\n",
    "        self.metrics_df = pd.concat([self.metrics_df, new_row])\n",
    "        display(self.metrics_df)"
   ]
  },
  {
   "cell_type": "code",
   "execution_count": 18,
   "metadata": {},
   "outputs": [],
   "source": [
    "early_stop_callback = EarlyStopping(monitor=\"val_qwk\", patience=3, verbose=True, mode=\"max\")\n",
    "checkpoint_callback = ModelCheckpoint(save_top_k=1, monitor=\"val_qwk\", mode=\"max\")"
   ]
  },
  {
   "cell_type": "code",
   "execution_count": 19,
   "metadata": {},
   "outputs": [
    {
     "name": "stderr",
     "output_type": "stream",
     "text": [
      "Using 16bit Automatic Mixed Precision (AMP)\n",
      "GPU available: True (cuda), used: True\n",
      "TPU available: False, using: 0 TPU cores\n",
      "IPU available: False, using: 0 IPUs\n",
      "HPU available: False, using: 0 HPUs\n"
     ]
    }
   ],
   "source": [
    "def get_loss():\n",
    "    if OBJECTIVE == \"regression\":\n",
    "        return torch.nn.functional.mse_loss\n",
    "    elif OBJECTIVE == \"classification\":\n",
    "        return torch.nn.functional.cross_entropy\n",
    "    elif OBJECTIVE == \"ordinal\":\n",
    "        return corn_loss\n",
    "\n",
    "loss_function = get_loss()\n",
    "NUM_EPOCHS = 20\n",
    "num_training_steps = NUM_EPOCHS * len(data_train)\n",
    "warmup_steps = int(num_training_steps * 0.1)\n",
    "steps_per_epoch = num_training_steps//NUM_EPOCHS\n",
    "model.train()\n",
    "trainer = Trainer(\n",
    "    max_epochs=NUM_EPOCHS,\n",
    "    log_every_n_steps=steps_per_epoch,\n",
    "    logger=CSVLogger(\"model_logs\", name=EXPERIMENT_NAME),\n",
    "    callbacks=[EpochEndCallback(), early_stop_callback, checkpoint_callback],\n",
    "    precision=PRECISION,\n",
    "    accumulate_grad_batches=GRADIENT_ACC\n",
    "    )\n",
    "ligthning_model = LightningGradePredictor(model,\n",
    "                    loss_function=loss_function,\n",
    "                    num_training_steps=num_training_steps,\n",
    "                    num_warmup_steps=warmup_steps,\n",
    "                    learning_rate = LEARNING_RATE\n",
    "                    )"
   ]
  },
  {
   "cell_type": "code",
   "execution_count": 20,
   "metadata": {},
   "outputs": [
    {
     "name": "stderr",
     "output_type": "stream",
     "text": [
      "LOCAL_RANK: 0 - CUDA_VISIBLE_DEVICES: [0]\n",
      "\n",
      "  | Name  | Type                          | Params\n",
      "--------------------------------------------------------\n",
      "0 | model | BertForSequenceClassification | 334 M \n",
      "--------------------------------------------------------\n",
      "334 M     Trainable params\n",
      "0         Non-trainable params\n",
      "334 M     Total params\n",
      "1,337.590 Total estimated model params size (MB)\n"
     ]
    },
    {
     "data": {
      "application/vnd.jupyter.widget-view+json": {
       "model_id": "534c09ec1e5e4480a8fc95b43b255a3e",
       "version_major": 2,
       "version_minor": 0
      },
      "text/plain": [
       "Sanity Checking: |          | 0/? [00:00<?, ?it/s]"
      ]
     },
     "metadata": {},
     "output_type": "display_data"
    },
    {
     "name": "stderr",
     "output_type": "stream",
     "text": [
      "/home/nathan/.local/lib/python3.10/site-packages/lightning/pytorch/trainer/connectors/data_connector.py:441: The 'val_dataloader' does not have many workers which may be a bottleneck. Consider increasing the value of the `num_workers` argument` to `num_workers=3` in the `DataLoader` to improve performance.\n"
     ]
    },
    {
     "name": "stderr",
     "output_type": "stream",
     "text": [
      "/home/nathan/.local/lib/python3.10/site-packages/lightning/pytorch/trainer/connectors/data_connector.py:441: The 'train_dataloader' does not have many workers which may be a bottleneck. Consider increasing the value of the `num_workers` argument` to `num_workers=3` in the `DataLoader` to improve performance.\n"
     ]
    },
    {
     "data": {
      "application/vnd.jupyter.widget-view+json": {
       "model_id": "a8ec35a3c56b4266887abbd0f353bb3f",
       "version_major": 2,
       "version_minor": 0
      },
      "text/plain": [
       "Training: |          | 0/? [00:00<?, ?it/s]"
      ]
     },
     "metadata": {},
     "output_type": "display_data"
    },
    {
     "name": "stderr",
     "output_type": "stream",
     "text": [
      "/home/nathan/.local/lib/python3.10/site-packages/torch/optim/lr_scheduler.py:136: UserWarning: Detected call of `lr_scheduler.step()` before `optimizer.step()`. In PyTorch 1.1.0 and later, you should call them in the opposite order: `optimizer.step()` before `lr_scheduler.step()`.  Failure to do this will result in PyTorch skipping the first value of the learning rate schedule. See more details at https://pytorch.org/docs/stable/optim.html#how-to-adjust-learning-rate\n",
      "  warnings.warn(\"Detected call of `lr_scheduler.step()` before `optimizer.step()`. \"\n"
     ]
    },
    {
     "data": {
      "application/vnd.jupyter.widget-view+json": {
       "model_id": "6c9172e399f9463d95174d5297caab8a",
       "version_major": 2,
       "version_minor": 0
      },
      "text/plain": [
       "Validation: |          | 0/? [00:00<?, ?it/s]"
      ]
     },
     "metadata": {},
     "output_type": "display_data"
    },
    {
     "data": {
      "application/vnd.jupyter.widget-view+json": {
       "model_id": "2c522de75cd74a76b1fa52f150fd5b9a",
       "version_major": 2,
       "version_minor": 0
      },
      "text/plain": [
       "Obtaining predictions:   0%|          | 0/48 [00:00<?, ?it/s]"
      ]
     },
     "metadata": {},
     "output_type": "display_data"
    },
    {
     "data": {
      "application/vnd.jupyter.widget-view+json": {
       "model_id": "21127bef054140fa9feb48f96b56d3a9",
       "version_major": 2,
       "version_minor": 0
      },
      "text/plain": [
       "Obtaining predictions:   0%|          | 0/13 [00:00<?, ?it/s]"
      ]
     },
     "metadata": {},
     "output_type": "display_data"
    },
    {
     "data": {
      "text/html": [
       "<div>\n",
       "<style scoped>\n",
       "    .dataframe tbody tr th:only-of-type {\n",
       "        vertical-align: middle;\n",
       "    }\n",
       "\n",
       "    .dataframe tbody tr th {\n",
       "        vertical-align: top;\n",
       "    }\n",
       "\n",
       "    .dataframe thead th {\n",
       "        text-align: right;\n",
       "    }\n",
       "</style>\n",
       "<table border=\"1\" class=\"dataframe\">\n",
       "  <thead>\n",
       "    <tr style=\"text-align: right;\">\n",
       "      <th></th>\n",
       "      <th>Epoch</th>\n",
       "      <th>Train Loss</th>\n",
       "      <th>Validation Loss</th>\n",
       "      <th>Train QWK</th>\n",
       "      <th>Validation QWK</th>\n",
       "      <th>Train RMSE</th>\n",
       "      <th>Validation RMSE</th>\n",
       "    </tr>\n",
       "  </thead>\n",
       "  <tbody>\n",
       "    <tr>\n",
       "      <th>0</th>\n",
       "      <td>0</td>\n",
       "      <td>3.0870695</td>\n",
       "      <td>1.9577413</td>\n",
       "      <td>0.538223</td>\n",
       "      <td>0.468694</td>\n",
       "      <td>38.685526</td>\n",
       "      <td>37.172815</td>\n",
       "    </tr>\n",
       "  </tbody>\n",
       "</table>\n",
       "</div>"
      ],
      "text/plain": [
       "  Epoch Train Loss Validation Loss Train QWK Validation QWK Train RMSE  \\\n",
       "0     0  3.0870695       1.9577413  0.538223       0.468694  38.685526   \n",
       "\n",
       "  Validation RMSE  \n",
       "0       37.172815  "
      ]
     },
     "metadata": {},
     "output_type": "display_data"
    },
    {
     "name": "stderr",
     "output_type": "stream",
     "text": [
      "Metric val_qwk improved. New best score: 0.469\n"
     ]
    },
    {
     "data": {
      "application/vnd.jupyter.widget-view+json": {
       "model_id": "68bc7e13aa414824a43f16033c25f275",
       "version_major": 2,
       "version_minor": 0
      },
      "text/plain": [
       "Validation: |          | 0/? [00:00<?, ?it/s]"
      ]
     },
     "metadata": {},
     "output_type": "display_data"
    },
    {
     "data": {
      "application/vnd.jupyter.widget-view+json": {
       "model_id": "706eb31276df4a1895c0f56bb92a56f9",
       "version_major": 2,
       "version_minor": 0
      },
      "text/plain": [
       "Obtaining predictions:   0%|          | 0/48 [00:00<?, ?it/s]"
      ]
     },
     "metadata": {},
     "output_type": "display_data"
    },
    {
     "data": {
      "application/vnd.jupyter.widget-view+json": {
       "model_id": "52011eb88b454e928560cce5a8f8592d",
       "version_major": 2,
       "version_minor": 0
      },
      "text/plain": [
       "Obtaining predictions:   0%|          | 0/13 [00:00<?, ?it/s]"
      ]
     },
     "metadata": {},
     "output_type": "display_data"
    },
    {
     "data": {
      "text/html": [
       "<div>\n",
       "<style scoped>\n",
       "    .dataframe tbody tr th:only-of-type {\n",
       "        vertical-align: middle;\n",
       "    }\n",
       "\n",
       "    .dataframe tbody tr th {\n",
       "        vertical-align: top;\n",
       "    }\n",
       "\n",
       "    .dataframe thead th {\n",
       "        text-align: right;\n",
       "    }\n",
       "</style>\n",
       "<table border=\"1\" class=\"dataframe\">\n",
       "  <thead>\n",
       "    <tr style=\"text-align: right;\">\n",
       "      <th></th>\n",
       "      <th>Epoch</th>\n",
       "      <th>Train Loss</th>\n",
       "      <th>Validation Loss</th>\n",
       "      <th>Train QWK</th>\n",
       "      <th>Validation QWK</th>\n",
       "      <th>Train RMSE</th>\n",
       "      <th>Validation RMSE</th>\n",
       "    </tr>\n",
       "  </thead>\n",
       "  <tbody>\n",
       "    <tr>\n",
       "      <th>0</th>\n",
       "      <td>0</td>\n",
       "      <td>3.0870695</td>\n",
       "      <td>1.9577413</td>\n",
       "      <td>0.538223</td>\n",
       "      <td>0.468694</td>\n",
       "      <td>38.685526</td>\n",
       "      <td>37.172815</td>\n",
       "    </tr>\n",
       "    <tr>\n",
       "      <th>0</th>\n",
       "      <td>1</td>\n",
       "      <td>1.0176003</td>\n",
       "      <td>1.1546949</td>\n",
       "      <td>0.513953</td>\n",
       "      <td>0.302074</td>\n",
       "      <td>39.628885</td>\n",
       "      <td>45.660141</td>\n",
       "    </tr>\n",
       "  </tbody>\n",
       "</table>\n",
       "</div>"
      ],
      "text/plain": [
       "  Epoch Train Loss Validation Loss Train QWK Validation QWK Train RMSE  \\\n",
       "0     0  3.0870695       1.9577413  0.538223       0.468694  38.685526   \n",
       "0     1  1.0176003       1.1546949  0.513953       0.302074  39.628885   \n",
       "\n",
       "  Validation RMSE  \n",
       "0       37.172815  \n",
       "0       45.660141  "
      ]
     },
     "metadata": {},
     "output_type": "display_data"
    },
    {
     "data": {
      "application/vnd.jupyter.widget-view+json": {
       "model_id": "90243dcd69f24c86bb3ad34f2763e10f",
       "version_major": 2,
       "version_minor": 0
      },
      "text/plain": [
       "Validation: |          | 0/? [00:00<?, ?it/s]"
      ]
     },
     "metadata": {},
     "output_type": "display_data"
    },
    {
     "data": {
      "application/vnd.jupyter.widget-view+json": {
       "model_id": "0238c7d6179442b98d4e9fdfdde75c51",
       "version_major": 2,
       "version_minor": 0
      },
      "text/plain": [
       "Obtaining predictions:   0%|          | 0/48 [00:00<?, ?it/s]"
      ]
     },
     "metadata": {},
     "output_type": "display_data"
    },
    {
     "data": {
      "application/vnd.jupyter.widget-view+json": {
       "model_id": "1fbc69068e84416e93c4ecfae06f205d",
       "version_major": 2,
       "version_minor": 0
      },
      "text/plain": [
       "Obtaining predictions:   0%|          | 0/13 [00:00<?, ?it/s]"
      ]
     },
     "metadata": {},
     "output_type": "display_data"
    },
    {
     "data": {
      "text/html": [
       "<div>\n",
       "<style scoped>\n",
       "    .dataframe tbody tr th:only-of-type {\n",
       "        vertical-align: middle;\n",
       "    }\n",
       "\n",
       "    .dataframe tbody tr th {\n",
       "        vertical-align: top;\n",
       "    }\n",
       "\n",
       "    .dataframe thead th {\n",
       "        text-align: right;\n",
       "    }\n",
       "</style>\n",
       "<table border=\"1\" class=\"dataframe\">\n",
       "  <thead>\n",
       "    <tr style=\"text-align: right;\">\n",
       "      <th></th>\n",
       "      <th>Epoch</th>\n",
       "      <th>Train Loss</th>\n",
       "      <th>Validation Loss</th>\n",
       "      <th>Train QWK</th>\n",
       "      <th>Validation QWK</th>\n",
       "      <th>Train RMSE</th>\n",
       "      <th>Validation RMSE</th>\n",
       "    </tr>\n",
       "  </thead>\n",
       "  <tbody>\n",
       "    <tr>\n",
       "      <th>0</th>\n",
       "      <td>0</td>\n",
       "      <td>3.0870695</td>\n",
       "      <td>1.9577413</td>\n",
       "      <td>0.538223</td>\n",
       "      <td>0.468694</td>\n",
       "      <td>38.685526</td>\n",
       "      <td>37.172815</td>\n",
       "    </tr>\n",
       "    <tr>\n",
       "      <th>0</th>\n",
       "      <td>1</td>\n",
       "      <td>1.0176003</td>\n",
       "      <td>1.1546949</td>\n",
       "      <td>0.513953</td>\n",
       "      <td>0.302074</td>\n",
       "      <td>39.628885</td>\n",
       "      <td>45.660141</td>\n",
       "    </tr>\n",
       "    <tr>\n",
       "      <th>0</th>\n",
       "      <td>2</td>\n",
       "      <td>2.2213035</td>\n",
       "      <td>0.79214495</td>\n",
       "      <td>0.610778</td>\n",
       "      <td>0.48145</td>\n",
       "      <td>36.292567</td>\n",
       "      <td>36.954791</td>\n",
       "    </tr>\n",
       "  </tbody>\n",
       "</table>\n",
       "</div>"
      ],
      "text/plain": [
       "  Epoch Train Loss Validation Loss Train QWK Validation QWK Train RMSE  \\\n",
       "0     0  3.0870695       1.9577413  0.538223       0.468694  38.685526   \n",
       "0     1  1.0176003       1.1546949  0.513953       0.302074  39.628885   \n",
       "0     2  2.2213035      0.79214495  0.610778        0.48145  36.292567   \n",
       "\n",
       "  Validation RMSE  \n",
       "0       37.172815  \n",
       "0       45.660141  \n",
       "0       36.954791  "
      ]
     },
     "metadata": {},
     "output_type": "display_data"
    },
    {
     "name": "stderr",
     "output_type": "stream",
     "text": [
      "Metric val_qwk improved by 0.013 >= min_delta = 0.0. New best score: 0.481\n"
     ]
    },
    {
     "data": {
      "application/vnd.jupyter.widget-view+json": {
       "model_id": "52ed3e746e31421f9821a2db7da7ff33",
       "version_major": 2,
       "version_minor": 0
      },
      "text/plain": [
       "Validation: |          | 0/? [00:00<?, ?it/s]"
      ]
     },
     "metadata": {},
     "output_type": "display_data"
    },
    {
     "data": {
      "application/vnd.jupyter.widget-view+json": {
       "model_id": "ebf14489a7094e72b76c7015a702e36d",
       "version_major": 2,
       "version_minor": 0
      },
      "text/plain": [
       "Obtaining predictions:   0%|          | 0/48 [00:00<?, ?it/s]"
      ]
     },
     "metadata": {},
     "output_type": "display_data"
    },
    {
     "data": {
      "application/vnd.jupyter.widget-view+json": {
       "model_id": "55f8c9dff3554520b17ebdccbd9cede9",
       "version_major": 2,
       "version_minor": 0
      },
      "text/plain": [
       "Obtaining predictions:   0%|          | 0/13 [00:00<?, ?it/s]"
      ]
     },
     "metadata": {},
     "output_type": "display_data"
    },
    {
     "data": {
      "text/html": [
       "<div>\n",
       "<style scoped>\n",
       "    .dataframe tbody tr th:only-of-type {\n",
       "        vertical-align: middle;\n",
       "    }\n",
       "\n",
       "    .dataframe tbody tr th {\n",
       "        vertical-align: top;\n",
       "    }\n",
       "\n",
       "    .dataframe thead th {\n",
       "        text-align: right;\n",
       "    }\n",
       "</style>\n",
       "<table border=\"1\" class=\"dataframe\">\n",
       "  <thead>\n",
       "    <tr style=\"text-align: right;\">\n",
       "      <th></th>\n",
       "      <th>Epoch</th>\n",
       "      <th>Train Loss</th>\n",
       "      <th>Validation Loss</th>\n",
       "      <th>Train QWK</th>\n",
       "      <th>Validation QWK</th>\n",
       "      <th>Train RMSE</th>\n",
       "      <th>Validation RMSE</th>\n",
       "    </tr>\n",
       "  </thead>\n",
       "  <tbody>\n",
       "    <tr>\n",
       "      <th>0</th>\n",
       "      <td>0</td>\n",
       "      <td>3.0870695</td>\n",
       "      <td>1.9577413</td>\n",
       "      <td>0.538223</td>\n",
       "      <td>0.468694</td>\n",
       "      <td>38.685526</td>\n",
       "      <td>37.172815</td>\n",
       "    </tr>\n",
       "    <tr>\n",
       "      <th>0</th>\n",
       "      <td>1</td>\n",
       "      <td>1.0176003</td>\n",
       "      <td>1.1546949</td>\n",
       "      <td>0.513953</td>\n",
       "      <td>0.302074</td>\n",
       "      <td>39.628885</td>\n",
       "      <td>45.660141</td>\n",
       "    </tr>\n",
       "    <tr>\n",
       "      <th>0</th>\n",
       "      <td>2</td>\n",
       "      <td>2.2213035</td>\n",
       "      <td>0.79214495</td>\n",
       "      <td>0.610778</td>\n",
       "      <td>0.48145</td>\n",
       "      <td>36.292567</td>\n",
       "      <td>36.954791</td>\n",
       "    </tr>\n",
       "    <tr>\n",
       "      <th>0</th>\n",
       "      <td>3</td>\n",
       "      <td>0.9535805</td>\n",
       "      <td>0.8198501</td>\n",
       "      <td>0.593221</td>\n",
       "      <td>0.395957</td>\n",
       "      <td>35.528427</td>\n",
       "      <td>38.349799</td>\n",
       "    </tr>\n",
       "  </tbody>\n",
       "</table>\n",
       "</div>"
      ],
      "text/plain": [
       "  Epoch Train Loss Validation Loss Train QWK Validation QWK Train RMSE  \\\n",
       "0     0  3.0870695       1.9577413  0.538223       0.468694  38.685526   \n",
       "0     1  1.0176003       1.1546949  0.513953       0.302074  39.628885   \n",
       "0     2  2.2213035      0.79214495  0.610778        0.48145  36.292567   \n",
       "0     3  0.9535805       0.8198501  0.593221       0.395957  35.528427   \n",
       "\n",
       "  Validation RMSE  \n",
       "0       37.172815  \n",
       "0       45.660141  \n",
       "0       36.954791  \n",
       "0       38.349799  "
      ]
     },
     "metadata": {},
     "output_type": "display_data"
    },
    {
     "data": {
      "application/vnd.jupyter.widget-view+json": {
       "model_id": "31552b4f18bc4b2fae8e105765ae7a7a",
       "version_major": 2,
       "version_minor": 0
      },
      "text/plain": [
       "Validation: |          | 0/? [00:00<?, ?it/s]"
      ]
     },
     "metadata": {},
     "output_type": "display_data"
    },
    {
     "data": {
      "application/vnd.jupyter.widget-view+json": {
       "model_id": "77f7605e83604cd7997a0b741cc0440f",
       "version_major": 2,
       "version_minor": 0
      },
      "text/plain": [
       "Obtaining predictions:   0%|          | 0/48 [00:00<?, ?it/s]"
      ]
     },
     "metadata": {},
     "output_type": "display_data"
    },
    {
     "data": {
      "application/vnd.jupyter.widget-view+json": {
       "model_id": "e8780ee73c644fb78c318d5eee17ea4b",
       "version_major": 2,
       "version_minor": 0
      },
      "text/plain": [
       "Obtaining predictions:   0%|          | 0/13 [00:00<?, ?it/s]"
      ]
     },
     "metadata": {},
     "output_type": "display_data"
    },
    {
     "data": {
      "text/html": [
       "<div>\n",
       "<style scoped>\n",
       "    .dataframe tbody tr th:only-of-type {\n",
       "        vertical-align: middle;\n",
       "    }\n",
       "\n",
       "    .dataframe tbody tr th {\n",
       "        vertical-align: top;\n",
       "    }\n",
       "\n",
       "    .dataframe thead th {\n",
       "        text-align: right;\n",
       "    }\n",
       "</style>\n",
       "<table border=\"1\" class=\"dataframe\">\n",
       "  <thead>\n",
       "    <tr style=\"text-align: right;\">\n",
       "      <th></th>\n",
       "      <th>Epoch</th>\n",
       "      <th>Train Loss</th>\n",
       "      <th>Validation Loss</th>\n",
       "      <th>Train QWK</th>\n",
       "      <th>Validation QWK</th>\n",
       "      <th>Train RMSE</th>\n",
       "      <th>Validation RMSE</th>\n",
       "    </tr>\n",
       "  </thead>\n",
       "  <tbody>\n",
       "    <tr>\n",
       "      <th>0</th>\n",
       "      <td>0</td>\n",
       "      <td>3.0870695</td>\n",
       "      <td>1.9577413</td>\n",
       "      <td>0.538223</td>\n",
       "      <td>0.468694</td>\n",
       "      <td>38.685526</td>\n",
       "      <td>37.172815</td>\n",
       "    </tr>\n",
       "    <tr>\n",
       "      <th>0</th>\n",
       "      <td>1</td>\n",
       "      <td>1.0176003</td>\n",
       "      <td>1.1546949</td>\n",
       "      <td>0.513953</td>\n",
       "      <td>0.302074</td>\n",
       "      <td>39.628885</td>\n",
       "      <td>45.660141</td>\n",
       "    </tr>\n",
       "    <tr>\n",
       "      <th>0</th>\n",
       "      <td>2</td>\n",
       "      <td>2.2213035</td>\n",
       "      <td>0.79214495</td>\n",
       "      <td>0.610778</td>\n",
       "      <td>0.48145</td>\n",
       "      <td>36.292567</td>\n",
       "      <td>36.954791</td>\n",
       "    </tr>\n",
       "    <tr>\n",
       "      <th>0</th>\n",
       "      <td>3</td>\n",
       "      <td>0.9535805</td>\n",
       "      <td>0.8198501</td>\n",
       "      <td>0.593221</td>\n",
       "      <td>0.395957</td>\n",
       "      <td>35.528427</td>\n",
       "      <td>38.349799</td>\n",
       "    </tr>\n",
       "    <tr>\n",
       "      <th>0</th>\n",
       "      <td>4</td>\n",
       "      <td>0.85810536</td>\n",
       "      <td>0.7454878</td>\n",
       "      <td>0.690601</td>\n",
       "      <td>0.49117</td>\n",
       "      <td>33.604875</td>\n",
       "      <td>37.281349</td>\n",
       "    </tr>\n",
       "  </tbody>\n",
       "</table>\n",
       "</div>"
      ],
      "text/plain": [
       "  Epoch  Train Loss Validation Loss Train QWK Validation QWK Train RMSE  \\\n",
       "0     0   3.0870695       1.9577413  0.538223       0.468694  38.685526   \n",
       "0     1   1.0176003       1.1546949  0.513953       0.302074  39.628885   \n",
       "0     2   2.2213035      0.79214495  0.610778        0.48145  36.292567   \n",
       "0     3   0.9535805       0.8198501  0.593221       0.395957  35.528427   \n",
       "0     4  0.85810536       0.7454878  0.690601        0.49117  33.604875   \n",
       "\n",
       "  Validation RMSE  \n",
       "0       37.172815  \n",
       "0       45.660141  \n",
       "0       36.954791  \n",
       "0       38.349799  \n",
       "0       37.281349  "
      ]
     },
     "metadata": {},
     "output_type": "display_data"
    },
    {
     "name": "stderr",
     "output_type": "stream",
     "text": [
      "Metric val_qwk improved by 0.010 >= min_delta = 0.0. New best score: 0.491\n"
     ]
    },
    {
     "data": {
      "application/vnd.jupyter.widget-view+json": {
       "model_id": "20a45a2fe7104175915c22458b89228a",
       "version_major": 2,
       "version_minor": 0
      },
      "text/plain": [
       "Validation: |          | 0/? [00:00<?, ?it/s]"
      ]
     },
     "metadata": {},
     "output_type": "display_data"
    },
    {
     "data": {
      "application/vnd.jupyter.widget-view+json": {
       "model_id": "4e268c5e3a9543d2a9dd896e00011779",
       "version_major": 2,
       "version_minor": 0
      },
      "text/plain": [
       "Obtaining predictions:   0%|          | 0/48 [00:00<?, ?it/s]"
      ]
     },
     "metadata": {},
     "output_type": "display_data"
    },
    {
     "data": {
      "application/vnd.jupyter.widget-view+json": {
       "model_id": "9e54a1fb360d48569cdef937daaaa2ac",
       "version_major": 2,
       "version_minor": 0
      },
      "text/plain": [
       "Obtaining predictions:   0%|          | 0/13 [00:00<?, ?it/s]"
      ]
     },
     "metadata": {},
     "output_type": "display_data"
    },
    {
     "data": {
      "text/html": [
       "<div>\n",
       "<style scoped>\n",
       "    .dataframe tbody tr th:only-of-type {\n",
       "        vertical-align: middle;\n",
       "    }\n",
       "\n",
       "    .dataframe tbody tr th {\n",
       "        vertical-align: top;\n",
       "    }\n",
       "\n",
       "    .dataframe thead th {\n",
       "        text-align: right;\n",
       "    }\n",
       "</style>\n",
       "<table border=\"1\" class=\"dataframe\">\n",
       "  <thead>\n",
       "    <tr style=\"text-align: right;\">\n",
       "      <th></th>\n",
       "      <th>Epoch</th>\n",
       "      <th>Train Loss</th>\n",
       "      <th>Validation Loss</th>\n",
       "      <th>Train QWK</th>\n",
       "      <th>Validation QWK</th>\n",
       "      <th>Train RMSE</th>\n",
       "      <th>Validation RMSE</th>\n",
       "    </tr>\n",
       "  </thead>\n",
       "  <tbody>\n",
       "    <tr>\n",
       "      <th>0</th>\n",
       "      <td>0</td>\n",
       "      <td>3.0870695</td>\n",
       "      <td>1.9577413</td>\n",
       "      <td>0.538223</td>\n",
       "      <td>0.468694</td>\n",
       "      <td>38.685526</td>\n",
       "      <td>37.172815</td>\n",
       "    </tr>\n",
       "    <tr>\n",
       "      <th>0</th>\n",
       "      <td>1</td>\n",
       "      <td>1.0176003</td>\n",
       "      <td>1.1546949</td>\n",
       "      <td>0.513953</td>\n",
       "      <td>0.302074</td>\n",
       "      <td>39.628885</td>\n",
       "      <td>45.660141</td>\n",
       "    </tr>\n",
       "    <tr>\n",
       "      <th>0</th>\n",
       "      <td>2</td>\n",
       "      <td>2.2213035</td>\n",
       "      <td>0.79214495</td>\n",
       "      <td>0.610778</td>\n",
       "      <td>0.48145</td>\n",
       "      <td>36.292567</td>\n",
       "      <td>36.954791</td>\n",
       "    </tr>\n",
       "    <tr>\n",
       "      <th>0</th>\n",
       "      <td>3</td>\n",
       "      <td>0.9535805</td>\n",
       "      <td>0.8198501</td>\n",
       "      <td>0.593221</td>\n",
       "      <td>0.395957</td>\n",
       "      <td>35.528427</td>\n",
       "      <td>38.349799</td>\n",
       "    </tr>\n",
       "    <tr>\n",
       "      <th>0</th>\n",
       "      <td>4</td>\n",
       "      <td>0.85810536</td>\n",
       "      <td>0.7454878</td>\n",
       "      <td>0.690601</td>\n",
       "      <td>0.49117</td>\n",
       "      <td>33.604875</td>\n",
       "      <td>37.281349</td>\n",
       "    </tr>\n",
       "    <tr>\n",
       "      <th>0</th>\n",
       "      <td>5</td>\n",
       "      <td>0.7585864</td>\n",
       "      <td>0.7512756</td>\n",
       "      <td>0.710665</td>\n",
       "      <td>0.452705</td>\n",
       "      <td>32.810321</td>\n",
       "      <td>37.281349</td>\n",
       "    </tr>\n",
       "  </tbody>\n",
       "</table>\n",
       "</div>"
      ],
      "text/plain": [
       "  Epoch  Train Loss Validation Loss Train QWK Validation QWK Train RMSE  \\\n",
       "0     0   3.0870695       1.9577413  0.538223       0.468694  38.685526   \n",
       "0     1   1.0176003       1.1546949  0.513953       0.302074  39.628885   \n",
       "0     2   2.2213035      0.79214495  0.610778        0.48145  36.292567   \n",
       "0     3   0.9535805       0.8198501  0.593221       0.395957  35.528427   \n",
       "0     4  0.85810536       0.7454878  0.690601        0.49117  33.604875   \n",
       "0     5   0.7585864       0.7512756  0.710665       0.452705  32.810321   \n",
       "\n",
       "  Validation RMSE  \n",
       "0       37.172815  \n",
       "0       45.660141  \n",
       "0       36.954791  \n",
       "0       38.349799  \n",
       "0       37.281349  \n",
       "0       37.281349  "
      ]
     },
     "metadata": {},
     "output_type": "display_data"
    },
    {
     "data": {
      "application/vnd.jupyter.widget-view+json": {
       "model_id": "99bc80630d9f4abca15490e911ac7892",
       "version_major": 2,
       "version_minor": 0
      },
      "text/plain": [
       "Validation: |          | 0/? [00:00<?, ?it/s]"
      ]
     },
     "metadata": {},
     "output_type": "display_data"
    },
    {
     "data": {
      "application/vnd.jupyter.widget-view+json": {
       "model_id": "9b9d89dc2b6946199c5115f43db8be59",
       "version_major": 2,
       "version_minor": 0
      },
      "text/plain": [
       "Obtaining predictions:   0%|          | 0/48 [00:00<?, ?it/s]"
      ]
     },
     "metadata": {},
     "output_type": "display_data"
    },
    {
     "data": {
      "application/vnd.jupyter.widget-view+json": {
       "model_id": "8a81acad704e4c5a9ae5fe296eb88417",
       "version_major": 2,
       "version_minor": 0
      },
      "text/plain": [
       "Obtaining predictions:   0%|          | 0/13 [00:00<?, ?it/s]"
      ]
     },
     "metadata": {},
     "output_type": "display_data"
    },
    {
     "data": {
      "text/html": [
       "<div>\n",
       "<style scoped>\n",
       "    .dataframe tbody tr th:only-of-type {\n",
       "        vertical-align: middle;\n",
       "    }\n",
       "\n",
       "    .dataframe tbody tr th {\n",
       "        vertical-align: top;\n",
       "    }\n",
       "\n",
       "    .dataframe thead th {\n",
       "        text-align: right;\n",
       "    }\n",
       "</style>\n",
       "<table border=\"1\" class=\"dataframe\">\n",
       "  <thead>\n",
       "    <tr style=\"text-align: right;\">\n",
       "      <th></th>\n",
       "      <th>Epoch</th>\n",
       "      <th>Train Loss</th>\n",
       "      <th>Validation Loss</th>\n",
       "      <th>Train QWK</th>\n",
       "      <th>Validation QWK</th>\n",
       "      <th>Train RMSE</th>\n",
       "      <th>Validation RMSE</th>\n",
       "    </tr>\n",
       "  </thead>\n",
       "  <tbody>\n",
       "    <tr>\n",
       "      <th>0</th>\n",
       "      <td>0</td>\n",
       "      <td>3.0870695</td>\n",
       "      <td>1.9577413</td>\n",
       "      <td>0.538223</td>\n",
       "      <td>0.468694</td>\n",
       "      <td>38.685526</td>\n",
       "      <td>37.172815</td>\n",
       "    </tr>\n",
       "    <tr>\n",
       "      <th>0</th>\n",
       "      <td>1</td>\n",
       "      <td>1.0176003</td>\n",
       "      <td>1.1546949</td>\n",
       "      <td>0.513953</td>\n",
       "      <td>0.302074</td>\n",
       "      <td>39.628885</td>\n",
       "      <td>45.660141</td>\n",
       "    </tr>\n",
       "    <tr>\n",
       "      <th>0</th>\n",
       "      <td>2</td>\n",
       "      <td>2.2213035</td>\n",
       "      <td>0.79214495</td>\n",
       "      <td>0.610778</td>\n",
       "      <td>0.48145</td>\n",
       "      <td>36.292567</td>\n",
       "      <td>36.954791</td>\n",
       "    </tr>\n",
       "    <tr>\n",
       "      <th>0</th>\n",
       "      <td>3</td>\n",
       "      <td>0.9535805</td>\n",
       "      <td>0.8198501</td>\n",
       "      <td>0.593221</td>\n",
       "      <td>0.395957</td>\n",
       "      <td>35.528427</td>\n",
       "      <td>38.349799</td>\n",
       "    </tr>\n",
       "    <tr>\n",
       "      <th>0</th>\n",
       "      <td>4</td>\n",
       "      <td>0.85810536</td>\n",
       "      <td>0.7454878</td>\n",
       "      <td>0.690601</td>\n",
       "      <td>0.49117</td>\n",
       "      <td>33.604875</td>\n",
       "      <td>37.281349</td>\n",
       "    </tr>\n",
       "    <tr>\n",
       "      <th>0</th>\n",
       "      <td>5</td>\n",
       "      <td>0.7585864</td>\n",
       "      <td>0.7512756</td>\n",
       "      <td>0.710665</td>\n",
       "      <td>0.452705</td>\n",
       "      <td>32.810321</td>\n",
       "      <td>37.281349</td>\n",
       "    </tr>\n",
       "    <tr>\n",
       "      <th>0</th>\n",
       "      <td>6</td>\n",
       "      <td>0.7514595</td>\n",
       "      <td>0.83946055</td>\n",
       "      <td>0.67997</td>\n",
       "      <td>0.423191</td>\n",
       "      <td>33.573454</td>\n",
       "      <td>39.593898</td>\n",
       "    </tr>\n",
       "  </tbody>\n",
       "</table>\n",
       "</div>"
      ],
      "text/plain": [
       "  Epoch  Train Loss Validation Loss Train QWK Validation QWK Train RMSE  \\\n",
       "0     0   3.0870695       1.9577413  0.538223       0.468694  38.685526   \n",
       "0     1   1.0176003       1.1546949  0.513953       0.302074  39.628885   \n",
       "0     2   2.2213035      0.79214495  0.610778        0.48145  36.292567   \n",
       "0     3   0.9535805       0.8198501  0.593221       0.395957  35.528427   \n",
       "0     4  0.85810536       0.7454878  0.690601        0.49117  33.604875   \n",
       "0     5   0.7585864       0.7512756  0.710665       0.452705  32.810321   \n",
       "0     6   0.7514595      0.83946055   0.67997       0.423191  33.573454   \n",
       "\n",
       "  Validation RMSE  \n",
       "0       37.172815  \n",
       "0       45.660141  \n",
       "0       36.954791  \n",
       "0       38.349799  \n",
       "0       37.281349  \n",
       "0       37.281349  \n",
       "0       39.593898  "
      ]
     },
     "metadata": {},
     "output_type": "display_data"
    },
    {
     "data": {
      "application/vnd.jupyter.widget-view+json": {
       "model_id": "86c72d92c33a45aaad7534dc990a3cef",
       "version_major": 2,
       "version_minor": 0
      },
      "text/plain": [
       "Validation: |          | 0/? [00:00<?, ?it/s]"
      ]
     },
     "metadata": {},
     "output_type": "display_data"
    },
    {
     "data": {
      "application/vnd.jupyter.widget-view+json": {
       "model_id": "c13dbc845f0142799f2ddc5b63585a01",
       "version_major": 2,
       "version_minor": 0
      },
      "text/plain": [
       "Obtaining predictions:   0%|          | 0/48 [00:00<?, ?it/s]"
      ]
     },
     "metadata": {},
     "output_type": "display_data"
    },
    {
     "data": {
      "application/vnd.jupyter.widget-view+json": {
       "model_id": "e03f8a4b08e14455aa83c648966da5dd",
       "version_major": 2,
       "version_minor": 0
      },
      "text/plain": [
       "Obtaining predictions:   0%|          | 0/13 [00:00<?, ?it/s]"
      ]
     },
     "metadata": {},
     "output_type": "display_data"
    },
    {
     "data": {
      "text/html": [
       "<div>\n",
       "<style scoped>\n",
       "    .dataframe tbody tr th:only-of-type {\n",
       "        vertical-align: middle;\n",
       "    }\n",
       "\n",
       "    .dataframe tbody tr th {\n",
       "        vertical-align: top;\n",
       "    }\n",
       "\n",
       "    .dataframe thead th {\n",
       "        text-align: right;\n",
       "    }\n",
       "</style>\n",
       "<table border=\"1\" class=\"dataframe\">\n",
       "  <thead>\n",
       "    <tr style=\"text-align: right;\">\n",
       "      <th></th>\n",
       "      <th>Epoch</th>\n",
       "      <th>Train Loss</th>\n",
       "      <th>Validation Loss</th>\n",
       "      <th>Train QWK</th>\n",
       "      <th>Validation QWK</th>\n",
       "      <th>Train RMSE</th>\n",
       "      <th>Validation RMSE</th>\n",
       "    </tr>\n",
       "  </thead>\n",
       "  <tbody>\n",
       "    <tr>\n",
       "      <th>0</th>\n",
       "      <td>0</td>\n",
       "      <td>3.0870695</td>\n",
       "      <td>1.9577413</td>\n",
       "      <td>0.538223</td>\n",
       "      <td>0.468694</td>\n",
       "      <td>38.685526</td>\n",
       "      <td>37.172815</td>\n",
       "    </tr>\n",
       "    <tr>\n",
       "      <th>0</th>\n",
       "      <td>1</td>\n",
       "      <td>1.0176003</td>\n",
       "      <td>1.1546949</td>\n",
       "      <td>0.513953</td>\n",
       "      <td>0.302074</td>\n",
       "      <td>39.628885</td>\n",
       "      <td>45.660141</td>\n",
       "    </tr>\n",
       "    <tr>\n",
       "      <th>0</th>\n",
       "      <td>2</td>\n",
       "      <td>2.2213035</td>\n",
       "      <td>0.79214495</td>\n",
       "      <td>0.610778</td>\n",
       "      <td>0.48145</td>\n",
       "      <td>36.292567</td>\n",
       "      <td>36.954791</td>\n",
       "    </tr>\n",
       "    <tr>\n",
       "      <th>0</th>\n",
       "      <td>3</td>\n",
       "      <td>0.9535805</td>\n",
       "      <td>0.8198501</td>\n",
       "      <td>0.593221</td>\n",
       "      <td>0.395957</td>\n",
       "      <td>35.528427</td>\n",
       "      <td>38.349799</td>\n",
       "    </tr>\n",
       "    <tr>\n",
       "      <th>0</th>\n",
       "      <td>4</td>\n",
       "      <td>0.85810536</td>\n",
       "      <td>0.7454878</td>\n",
       "      <td>0.690601</td>\n",
       "      <td>0.49117</td>\n",
       "      <td>33.604875</td>\n",
       "      <td>37.281349</td>\n",
       "    </tr>\n",
       "    <tr>\n",
       "      <th>0</th>\n",
       "      <td>5</td>\n",
       "      <td>0.7585864</td>\n",
       "      <td>0.7512756</td>\n",
       "      <td>0.710665</td>\n",
       "      <td>0.452705</td>\n",
       "      <td>32.810321</td>\n",
       "      <td>37.281349</td>\n",
       "    </tr>\n",
       "    <tr>\n",
       "      <th>0</th>\n",
       "      <td>6</td>\n",
       "      <td>0.7514595</td>\n",
       "      <td>0.83946055</td>\n",
       "      <td>0.67997</td>\n",
       "      <td>0.423191</td>\n",
       "      <td>33.573454</td>\n",
       "      <td>39.593898</td>\n",
       "    </tr>\n",
       "    <tr>\n",
       "      <th>0</th>\n",
       "      <td>7</td>\n",
       "      <td>0.6953604</td>\n",
       "      <td>0.8049829</td>\n",
       "      <td>0.715649</td>\n",
       "      <td>0.419195</td>\n",
       "      <td>32.713678</td>\n",
       "      <td>39.389277</td>\n",
       "    </tr>\n",
       "  </tbody>\n",
       "</table>\n",
       "</div>"
      ],
      "text/plain": [
       "  Epoch  Train Loss Validation Loss Train QWK Validation QWK Train RMSE  \\\n",
       "0     0   3.0870695       1.9577413  0.538223       0.468694  38.685526   \n",
       "0     1   1.0176003       1.1546949  0.513953       0.302074  39.628885   \n",
       "0     2   2.2213035      0.79214495  0.610778        0.48145  36.292567   \n",
       "0     3   0.9535805       0.8198501  0.593221       0.395957  35.528427   \n",
       "0     4  0.85810536       0.7454878  0.690601        0.49117  33.604875   \n",
       "0     5   0.7585864       0.7512756  0.710665       0.452705  32.810321   \n",
       "0     6   0.7514595      0.83946055   0.67997       0.423191  33.573454   \n",
       "0     7   0.6953604       0.8049829  0.715649       0.419195  32.713678   \n",
       "\n",
       "  Validation RMSE  \n",
       "0       37.172815  \n",
       "0       45.660141  \n",
       "0       36.954791  \n",
       "0       38.349799  \n",
       "0       37.281349  \n",
       "0       37.281349  \n",
       "0       39.593898  \n",
       "0       39.389277  "
      ]
     },
     "metadata": {},
     "output_type": "display_data"
    },
    {
     "name": "stderr",
     "output_type": "stream",
     "text": [
      "Monitored metric val_qwk did not improve in the last 3 records. Best score: 0.491. Signaling Trainer to stop.\n"
     ]
    }
   ],
   "source": [
    "trainer.fit(model=ligthning_model, train_dataloaders=data_train, val_dataloaders=data_val)"
   ]
  },
  {
   "cell_type": "code",
   "execution_count": 21,
   "metadata": {},
   "outputs": [
    {
     "data": {
      "application/vnd.jupyter.widget-view+json": {
       "model_id": "bd39a94a937d43d6994db7bb7e126171",
       "version_major": 2,
       "version_minor": 0
      },
      "text/plain": [
       "Obtaining predictions:   0%|          | 0/13 [00:00<?, ?it/s]"
      ]
     },
     "metadata": {},
     "output_type": "display_data"
    },
    {
     "name": "stdout",
     "output_type": "stream",
     "text": [
      "RMSE on the validation set:  37.2813\n"
     ]
    }
   ],
   "source": [
    "best_model = LightningGradePredictor.load_from_checkpoint(checkpoint_callback.best_model_path,\n",
    "                                                  model=ligthning_model.model,\n",
    "                                                  loss_function=ligthning_model.loss)\n",
    "best_model.model.eval()\n",
    "all_predictions, all_true_labels = get_predictions_and_labels(best_model.model, data_val)\n",
    "rmse_val = mean_squared_error(all_true_labels, all_predictions, squared=False)\n",
    "print(f\"RMSE on the validation set: {rmse_val: .4f}\")"
   ]
  },
  {
   "cell_type": "code",
   "execution_count": 22,
   "metadata": {},
   "outputs": [],
   "source": [
    "def compute_metrics(model, dataset, test_group):\n",
    "    all_predictions, all_true_labels = get_predictions_and_labels(model, dataset)\n",
    "    accuracy = accuracy_score(all_true_labels, all_predictions)\n",
    "    qwk = cohen_kappa_score(all_true_labels, all_predictions, weights=\"quadratic\", labels=[0,40,80,120,160,200])\n",
    "    rmse = mean_squared_error(all_true_labels, all_predictions, squared=False)\n",
    "    horizontal_discrepancy = enem_accuracy_score(all_true_labels, all_predictions)\n",
    "    result = {\n",
    "        'Experiment Reference': EXPERIMENT_NAME,\n",
    "        'Test Group': test_group,\n",
    "        'Competence': REFERENCE_CONCEPT,\n",
    "        'Accuracy': [accuracy],\n",
    "        'RMSE': [rmse],\n",
    "        'QWK': [qwk],\n",
    "        'HDIV': [1- horizontal_discrepancy]\n",
    "    }\n",
    "    return pd.DataFrame(result)"
   ]
  },
  {
   "cell_type": "code",
   "execution_count": 23,
   "metadata": {},
   "outputs": [
    {
     "data": {
      "application/vnd.jupyter.widget-view+json": {
       "model_id": "3562d77d2a5048c0a60e327d74837dde",
       "version_major": 2,
       "version_minor": 0
      },
      "text/plain": [
       "Obtaining predictions:   0%|          | 0/13 [00:00<?, ?it/s]"
      ]
     },
     "metadata": {},
     "output_type": "display_data"
    },
    {
     "data": {
      "text/html": [
       "<div>\n",
       "<style scoped>\n",
       "    .dataframe tbody tr th:only-of-type {\n",
       "        vertical-align: middle;\n",
       "    }\n",
       "\n",
       "    .dataframe tbody tr th {\n",
       "        vertical-align: top;\n",
       "    }\n",
       "\n",
       "    .dataframe thead th {\n",
       "        text-align: right;\n",
       "    }\n",
       "</style>\n",
       "<table border=\"1\" class=\"dataframe\">\n",
       "  <thead>\n",
       "    <tr style=\"text-align: right;\">\n",
       "      <th></th>\n",
       "      <th>Experiment Reference</th>\n",
       "      <th>Test Group</th>\n",
       "      <th>Competence</th>\n",
       "      <th>Accuracy</th>\n",
       "      <th>RMSE</th>\n",
       "      <th>QWK</th>\n",
       "      <th>HDIV</th>\n",
       "    </tr>\n",
       "  </thead>\n",
       "  <tbody>\n",
       "    <tr>\n",
       "      <th>0</th>\n",
       "      <td>aes_enem_models-sourceA-regression-from-bertim...</td>\n",
       "      <td>validation</td>\n",
       "      <td>3</td>\n",
       "      <td>0.459596</td>\n",
       "      <td>37.281349</td>\n",
       "      <td>0.49117</td>\n",
       "      <td>0.020202</td>\n",
       "    </tr>\n",
       "  </tbody>\n",
       "</table>\n",
       "</div>"
      ],
      "text/plain": [
       "                                Experiment Reference  Test Group  Competence  \\\n",
       "0  aes_enem_models-sourceA-regression-from-bertim...  validation           3   \n",
       "\n",
       "   Accuracy       RMSE      QWK      HDIV  \n",
       "0  0.459596  37.281349  0.49117  0.020202  "
      ]
     },
     "execution_count": 23,
     "metadata": {},
     "output_type": "execute_result"
    }
   ],
   "source": [
    "compute_metrics(best_model.model, data_val, 'validation')"
   ]
  },
  {
   "cell_type": "code",
   "execution_count": 24,
   "metadata": {},
   "outputs": [],
   "source": [
    "def generate_report(model, data_test, data_test_easy, data_test_hard):\n",
    "    result = pd.concat([\n",
    "        compute_metrics(model, data_test, \"full\"),\n",
    "        compute_metrics(model, data_test_easy, \"easy\"),\n",
    "        compute_metrics(model, data_test_hard, \"hard\")\n",
    "    ])\n",
    "    directory = \"experiment_reports\"\n",
    "    if not os.path.exists(directory):\n",
    "        os.makedirs(directory)\n",
    "    file_path = f\"{directory}/{EXPERIMENT_NAME}.csv\"\n",
    "    file_exists = os.path.isfile(file_path) and os.path.getsize(file_path) > 0\n",
    "    if file_exists:\n",
    "        result.to_csv(file_path, mode='a', header=False, index=False)\n",
    "    else:\n",
    "        result.to_csv(file_path, mode='w', header=True, index=False)\n",
    "    return result"
   ]
  },
  {
   "cell_type": "code",
   "execution_count": 25,
   "metadata": {},
   "outputs": [
    {
     "data": {
      "application/vnd.jupyter.widget-view+json": {
       "model_id": "5ce95e11d9b6450ea1b0745d39b88ff7",
       "version_major": 2,
       "version_minor": 0
      },
      "text/plain": [
       "Obtaining predictions:   0%|          | 0/14 [00:00<?, ?it/s]"
      ]
     },
     "metadata": {},
     "output_type": "display_data"
    },
    {
     "data": {
      "application/vnd.jupyter.widget-view+json": {
       "model_id": "cb1e1cfacca54848af22dfe9d04ddbf6",
       "version_major": 2,
       "version_minor": 0
      },
      "text/plain": [
       "Obtaining predictions:   0%|          | 0/11 [00:00<?, ?it/s]"
      ]
     },
     "metadata": {},
     "output_type": "display_data"
    },
    {
     "data": {
      "application/vnd.jupyter.widget-view+json": {
       "model_id": "bca5efabd7854e31b3f8fea30e3745a8",
       "version_major": 2,
       "version_minor": 0
      },
      "text/plain": [
       "Obtaining predictions:   0%|          | 0/3 [00:00<?, ?it/s]"
      ]
     },
     "metadata": {},
     "output_type": "display_data"
    },
    {
     "data": {
      "text/html": [
       "<div>\n",
       "<style scoped>\n",
       "    .dataframe tbody tr th:only-of-type {\n",
       "        vertical-align: middle;\n",
       "    }\n",
       "\n",
       "    .dataframe tbody tr th {\n",
       "        vertical-align: top;\n",
       "    }\n",
       "\n",
       "    .dataframe thead th {\n",
       "        text-align: right;\n",
       "    }\n",
       "</style>\n",
       "<table border=\"1\" class=\"dataframe\">\n",
       "  <thead>\n",
       "    <tr style=\"text-align: right;\">\n",
       "      <th></th>\n",
       "      <th>Experiment Reference</th>\n",
       "      <th>Test Group</th>\n",
       "      <th>Competence</th>\n",
       "      <th>Accuracy</th>\n",
       "      <th>RMSE</th>\n",
       "      <th>QWK</th>\n",
       "      <th>HDIV</th>\n",
       "    </tr>\n",
       "  </thead>\n",
       "  <tbody>\n",
       "    <tr>\n",
       "      <th>0</th>\n",
       "      <td>aes_enem_models-sourceA-regression-from-bertim...</td>\n",
       "      <td>full</td>\n",
       "      <td>3</td>\n",
       "      <td>0.535885</td>\n",
       "      <td>41.502868</td>\n",
       "      <td>0.436077</td>\n",
       "      <td>0.052632</td>\n",
       "    </tr>\n",
       "    <tr>\n",
       "      <th>0</th>\n",
       "      <td>aes_enem_models-sourceA-regression-from-bertim...</td>\n",
       "      <td>easy</td>\n",
       "      <td>3</td>\n",
       "      <td>0.550898</td>\n",
       "      <td>32.463706</td>\n",
       "      <td>0.556087</td>\n",
       "      <td>0.005988</td>\n",
       "    </tr>\n",
       "    <tr>\n",
       "      <th>0</th>\n",
       "      <td>aes_enem_models-sourceA-regression-from-bertim...</td>\n",
       "      <td>hard</td>\n",
       "      <td>3</td>\n",
       "      <td>0.476190</td>\n",
       "      <td>66.188763</td>\n",
       "      <td>0.116356</td>\n",
       "      <td>0.238095</td>\n",
       "    </tr>\n",
       "  </tbody>\n",
       "</table>\n",
       "</div>"
      ],
      "text/plain": [
       "                                Experiment Reference Test Group  Competence  \\\n",
       "0  aes_enem_models-sourceA-regression-from-bertim...       full           3   \n",
       "0  aes_enem_models-sourceA-regression-from-bertim...       easy           3   \n",
       "0  aes_enem_models-sourceA-regression-from-bertim...       hard           3   \n",
       "\n",
       "   Accuracy       RMSE       QWK      HDIV  \n",
       "0  0.535885  41.502868  0.436077  0.052632  \n",
       "0  0.550898  32.463706  0.556087  0.005988  \n",
       "0  0.476190  66.188763  0.116356  0.238095  "
      ]
     },
     "execution_count": 25,
     "metadata": {},
     "output_type": "execute_result"
    }
   ],
   "source": [
    "generate_report(best_model.model, data_test, data_test_easy, data_test_hard)"
   ]
  },
  {
   "cell_type": "code",
   "execution_count": 26,
   "metadata": {},
   "outputs": [
    {
     "data": {
      "text/plain": [
       "'model_checkpoints/hugging_face/finetuning/aes_enem_models-sourceA-regression-from-bertimbau-large-C4'"
      ]
     },
     "execution_count": 26,
     "metadata": {},
     "output_type": "execute_result"
    }
   ],
   "source": [
    "bert_save_path = f\"model_checkpoints/hugging_face/finetuning/{EXPERIMENT_NAME}\"\n",
    "bert_save_path"
   ]
  },
  {
   "cell_type": "code",
   "execution_count": 27,
   "metadata": {},
   "outputs": [],
   "source": [
    "best_model.model.save_pretrained(bert_save_path)"
   ]
  },
  {
   "cell_type": "code",
   "execution_count": 28,
   "metadata": {},
   "outputs": [
    {
     "data": {
      "application/vnd.jupyter.widget-view+json": {
       "model_id": "43ec8dbb31a943d192b3b5463deb9c9c",
       "version_major": 2,
       "version_minor": 0
      },
      "text/plain": [
       "Obtaining predictions:   0%|          | 0/14 [00:00<?, ?it/s]"
      ]
     },
     "metadata": {},
     "output_type": "display_data"
    },
    {
     "data": {
      "text/html": [
       "<div>\n",
       "<style scoped>\n",
       "    .dataframe tbody tr th:only-of-type {\n",
       "        vertical-align: middle;\n",
       "    }\n",
       "\n",
       "    .dataframe tbody tr th {\n",
       "        vertical-align: top;\n",
       "    }\n",
       "\n",
       "    .dataframe thead th {\n",
       "        text-align: right;\n",
       "    }\n",
       "</style>\n",
       "<table border=\"1\" class=\"dataframe\">\n",
       "  <thead>\n",
       "    <tr style=\"text-align: right;\">\n",
       "      <th></th>\n",
       "      <th>Experiment Reference</th>\n",
       "      <th>Test Group</th>\n",
       "      <th>Competence</th>\n",
       "      <th>Accuracy</th>\n",
       "      <th>RMSE</th>\n",
       "      <th>QWK</th>\n",
       "      <th>HDIV</th>\n",
       "    </tr>\n",
       "  </thead>\n",
       "  <tbody>\n",
       "    <tr>\n",
       "      <th>0</th>\n",
       "      <td>aes_enem_models-sourceA-regression-from-bertim...</td>\n",
       "      <td>full</td>\n",
       "      <td>3</td>\n",
       "      <td>0.535885</td>\n",
       "      <td>41.502868</td>\n",
       "      <td>0.436077</td>\n",
       "      <td>0.052632</td>\n",
       "    </tr>\n",
       "  </tbody>\n",
       "</table>\n",
       "</div>"
      ],
      "text/plain": [
       "                                Experiment Reference Test Group  Competence  \\\n",
       "0  aes_enem_models-sourceA-regression-from-bertim...       full           3   \n",
       "\n",
       "   Accuracy       RMSE       QWK      HDIV  \n",
       "0  0.535885  41.502868  0.436077  0.052632  "
      ]
     },
     "execution_count": 28,
     "metadata": {},
     "output_type": "execute_result"
    }
   ],
   "source": [
    "model = get_model_instance(bert_save_path, OBJECTIVE)\n",
    "compute_metrics(model, data_test, \"full\")"
   ]
  },
  {
   "cell_type": "code",
   "execution_count": 29,
   "metadata": {},
   "outputs": [
    {
     "data": {
      "application/vnd.jupyter.widget-view+json": {
       "model_id": "2b01a658ee8e4fb79bab1b7c5ec52be1",
       "version_major": 2,
       "version_minor": 0
      },
      "text/plain": [
       "Obtaining predictions:   0%|          | 0/14 [00:00<?, ?it/s]"
      ]
     },
     "metadata": {},
     "output_type": "display_data"
    },
    {
     "name": "stdout",
     "output_type": "stream",
     "text": [
      "classification:               precision    recall  f1-score   support\n",
      "\n",
      "         0.0       0.00      0.00      0.00         0\n",
      "        40.0       0.00      0.00      0.00         0\n",
      "        80.0       0.45      0.35      0.39        37\n",
      "       120.0       0.64      0.56      0.60       100\n",
      "       160.0       0.68      0.60      0.64        72\n",
      "       200.0       0.00      0.00      0.00         0\n",
      "\n",
      "    accuracy                           0.54       209\n",
      "   macro avg       0.30      0.25      0.27       209\n",
      "weighted avg       0.62      0.54      0.58       209\n",
      "\n",
      "\n"
     ]
    },
    {
     "name": "stderr",
     "output_type": "stream",
     "text": [
      "/home/nathan/.local/lib/python3.10/site-packages/sklearn/metrics/_classification.py:1471: UndefinedMetricWarning: Recall and F-score are ill-defined and being set to 0.0 in labels with no true samples. Use `zero_division` parameter to control this behavior.\n",
      "  _warn_prf(average, modifier, msg_start, len(result))\n",
      "/home/nathan/.local/lib/python3.10/site-packages/sklearn/metrics/_classification.py:1471: UndefinedMetricWarning: Recall and F-score are ill-defined and being set to 0.0 in labels with no true samples. Use `zero_division` parameter to control this behavior.\n",
      "  _warn_prf(average, modifier, msg_start, len(result))\n",
      "/home/nathan/.local/lib/python3.10/site-packages/sklearn/metrics/_classification.py:1471: UndefinedMetricWarning: Recall and F-score are ill-defined and being set to 0.0 in labels with no true samples. Use `zero_division` parameter to control this behavior.\n",
      "  _warn_prf(average, modifier, msg_start, len(result))\n"
     ]
    },
    {
     "data": {
      "text/plain": [
       "<sklearn.metrics._plot.confusion_matrix.ConfusionMatrixDisplay at 0x7f5e6b38d780>"
      ]
     },
     "execution_count": 29,
     "metadata": {},
     "output_type": "execute_result"
    },
    {
     "data": {
      "image/png": "[encoded data removed]",
      "text/plain": [
       "<Figure size 640x480 with 2 Axes>"
      ]
     },
     "metadata": {},
     "output_type": "display_data"
    }
   ],
   "source": [
    "from sklearn.metrics import ConfusionMatrixDisplay, classification_report\n",
    "all_predictions,all_true_labels = get_predictions_and_labels(model,data_test)\n",
    "report = classification_report(all_predictions, all_true_labels)\n",
    "print(f\"classification: {report}\\n\")\n",
    "ConfusionMatrixDisplay.from_predictions(all_predictions,all_true_labels)"
   ]
  }
 ],
 "metadata": {
  "kernelspec": {
   "display_name": "Python 3",
   "language": "python",
   "name": "python3"
  },
  "language_info": {
   "codemirror_mode": {
    "name": "ipython",
    "version": 3
   },
   "file_extension": ".py",
   "mimetype": "text/x-python",
   "name": "python",
   "nbconvert_exporter": "python",
   "pygments_lexer": "ipython3",
   "version": "3.10.12"
  }
 },
 "nbformat": 4,
 "nbformat_minor": 2
}
